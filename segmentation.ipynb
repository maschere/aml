{
  "nbformat": 4,
  "nbformat_minor": 0,
  "metadata": {
    "colab": {
      "name": "segmentation.ipynb",
      "provenance": [],
      "collapsed_sections": [],
      "authorship_tag": "ABX9TyMA01dQlZYwFn3t8JK9xj11",
      "include_colab_link": true
    },
    "kernelspec": {
      "name": "python3",
      "display_name": "Python 3"
    },
    "language_info": {
      "name": "python"
    },
    "accelerator": "GPU"
  },
  "cells": [
    {
      "cell_type": "markdown",
      "metadata": {
        "id": "view-in-github",
        "colab_type": "text"
      },
      "source": [
        "<a href=\"https://colab.research.google.com/github/maschere/aml/blob/main/segmentation.ipynb\" target=\"_parent\"><img src=\"https://colab.research.google.com/assets/colab-badge.svg\" alt=\"Open In Colab\"/></a>"
      ]
    },
    {
      "cell_type": "code",
      "metadata": {
        "colab": {
          "base_uri": "https://localhost:8080/"
        },
        "cellView": "code",
        "id": "djkeunxwOmA2",
        "outputId": "8d2ef38b-ceaf-4705-ed9f-aa1aee415e09"
      },
      "source": [
        "import os\n",
        "\n",
        "if not os.path.exists(\"pytorch_unet.py\"):\n",
        "  if not os.path.exists(\"pytorch_unet\"):\n",
        "    !git clone https://github.com/usuyama/pytorch-unet.git\n",
        "\n",
        "  %cd pytorch-unet"
      ],
      "execution_count": null,
      "outputs": [
        {
          "output_type": "stream",
          "text": [
            "Cloning into 'pytorch-unet'...\n",
            "remote: Enumerating objects: 67, done.\u001b[K\n",
            "remote: Counting objects: 100% (12/12), done.\u001b[K\n",
            "remote: Compressing objects: 100% (12/12), done.\u001b[K\n",
            "remote: Total 67 (delta 6), reused 1 (delta 0), pack-reused 55\u001b[K\n",
            "Unpacking objects: 100% (67/67), done.\n",
            "/content/pytorch-unet\n"
          ],
          "name": "stdout"
        }
      ]
    },
    {
      "cell_type": "code",
      "metadata": {
        "colab": {
          "base_uri": "https://localhost:8080/"
        },
        "id": "FDztbbEAQYu2",
        "outputId": "97ebad6c-16f2-4cbe-d783-08d937e98cb0"
      },
      "source": [
        "# check torch\n",
        "import torch\n",
        "\n",
        "if not torch.cuda.is_available():\n",
        "  raise Exception(\"GPU not availalbe. CPU training will be too slow.\")\n",
        "\n",
        "print(\"device name\", torch.cuda.get_device_name(0))"
      ],
      "execution_count": null,
      "outputs": [
        {
          "output_type": "stream",
          "text": [
            "device name Tesla P100-PCIE-16GB\n"
          ],
          "name": "stdout"
        }
      ]
    },
    {
      "cell_type": "code",
      "metadata": {
        "colab": {
          "base_uri": "https://localhost:8080/"
        },
        "id": "jKm0wFl1QgCa",
        "outputId": "651a0448-7f4e-4fe6-8dd5-29e961afe728"
      },
      "source": [
        "import matplotlib.pyplot as plt\n",
        "import numpy as np\n",
        "import helper\n",
        "import simulation\n",
        "\n",
        "# Generate some random images\n",
        "input_images, target_masks = simulation.generate_random_data(128, 128, count=64)\n",
        "\n",
        "print(\"input_images shape and range\", input_images.shape, input_images.min(), input_images.max())\n",
        "print(\"target_masks shape and range\", target_masks.shape, target_masks.min(), target_masks.max())\n",
        "\n",
        "# Change channel-order and make 3 channels for matplot\n",
        "input_images_rgb = [x.astype(np.uint8) for x in input_images]\n",
        "\n",
        "# Map each channel (i.e. class) to each color\n",
        "target_masks_rgb = [helper.masks_to_colorimg(x) for x in target_masks]"
      ],
      "execution_count": null,
      "outputs": [
        {
          "output_type": "stream",
          "text": [
            "input_images shape and range (64, 128, 128, 3) 0 255\n",
            "target_masks shape and range (64, 6, 128, 128) 0.0 1.0\n"
          ],
          "name": "stdout"
        }
      ]
    },
    {
      "cell_type": "code",
      "metadata": {
        "colab": {
          "base_uri": "https://localhost:8080/",
          "height": 703
        },
        "id": "-2wJh51cQ-kq",
        "outputId": "6861bd53-090f-4d53-8466-a1d085eaa54c"
      },
      "source": [
        "helper.plot_side_by_side([input_images_rgb[:3], target_masks_rgb[:3]])"
      ],
      "execution_count": null,
      "outputs": [
        {
          "output_type": "display_data",
          "data": {
            "image/png": "[encoded data removed]",
            "text/plain": [
              "<Figure size 576x864 with 6 Axes>"
            ]
          },
          "metadata": {
            "tags": [],
            "needs_background": "light"
          }
        }
      ]
    },
    {
      "cell_type": "code",
      "metadata": {
        "id": "1XGPIf-zRbG2"
      },
      "source": [
        "# prepare data\n",
        "from torch.utils.data import Dataset, DataLoader\n",
        "from torchvision import transforms, datasets\n",
        "\n",
        "class SimDataset(Dataset):\n",
        "  def __init__(self, count, transform=None):\n",
        "    self.input_images, self.target_masks = simulation.generate_random_data(128, 128, count=count)\n",
        "    self.transform = transform\n",
        "\n",
        "  def __len__(self):\n",
        "    return len(self.input_images)\n",
        "\n",
        "  def __getitem__(self, idx):\n",
        "    image = self.input_images[idx]\n",
        "    mask = self.target_masks[idx]\n",
        "    if self.transform:\n",
        "      image = self.transform(image)\n",
        "\n",
        "    return [image, mask]\n",
        "\n",
        "# use the same transformations for train/val in this example\n",
        "trans = transforms.Compose([\n",
        "  transforms.ToTensor(),\n",
        "  transforms.Normalize([0.4, 0.5, 0.6], [0.20, 0.21, 0.22]) # skew channels of binary images\n",
        "])\n",
        "\n",
        "train_set = SimDataset(2000, transform = trans)\n",
        "val_set = SimDataset(200, transform = trans)\n",
        "\n",
        "image_datasets = {\n",
        "  'train': train_set, 'val': val_set\n",
        "}\n",
        "\n",
        "batch_size = 25\n",
        "\n",
        "dataloaders = {\n",
        "  'train': DataLoader(train_set, batch_size=batch_size, shuffle=True, num_workers=0),\n",
        "  'val': DataLoader(val_set, batch_size=batch_size, shuffle=True, num_workers=0)\n",
        "}"
      ],
      "execution_count": null,
      "outputs": []
    },
    {
      "cell_type": "code",
      "metadata": {
        "colab": {
          "base_uri": "https://localhost:8080/",
          "height": 302
        },
        "id": "SfAY5nlDRrXf",
        "outputId": "8fe07f4a-e6ab-452e-b70f-aa88ebc7f6f1"
      },
      "source": [
        "import torchvision.utils\n",
        "\n",
        "def reverse_transform(inp):\n",
        "  inp = inp.numpy().transpose((1, 2, 0))\n",
        "  mean = np.array([0.4, 0.5, 0.6])\n",
        "  std = np.array([0.20, 0.21, 0.22])\n",
        "  inp = std * inp + mean\n",
        "  inp = np.clip(inp, 0, 1)\n",
        "  inp = (inp * 255).astype(np.uint8)\n",
        "\n",
        "  return inp\n",
        "\n",
        "# Get a batch of training data\n",
        "inputs, masks = next(iter(dataloaders['train']))\n",
        "\n",
        "print(inputs.shape, masks.shape)\n",
        "\n",
        "plt.imshow(reverse_transform(inputs[3]))"
      ],
      "execution_count": null,
      "outputs": [
        {
          "output_type": "stream",
          "text": [
            "torch.Size([25, 3, 128, 128]) torch.Size([25, 6, 128, 128])\n"
          ],
          "name": "stdout"
        },
        {
          "output_type": "execute_result",
          "data": {
            "text/plain": [
              "<matplotlib.image.AxesImage at 0x7fb136dd55d0>"
            ]
          },
          "metadata": {
            "tags": []
          },
          "execution_count": 108
        },
        {
          "output_type": "display_data",
          "data": {
            "image/png": "[encoded data removed]",
            "text/plain": [
              "<Figure size 432x288 with 1 Axes>"
            ]
          },
          "metadata": {
            "tags": [],
            "needs_background": "light"
          }
        }
      ]
    },
    {
      "cell_type": "code",
      "metadata": {
        "id": "TvzUQ8_XSpIT"
      },
      "source": [
        "#define unet\n",
        "import torch.nn as nn\n",
        "import torch.nn.functional as F\n",
        "\n",
        "def double_conv(in_channels, out_channels):\n",
        "    return nn.Sequential(\n",
        "        nn.Conv2d(in_channels, out_channels, 3, padding=1),\n",
        "        nn.ReLU(inplace=True),\n",
        "        nn.Conv2d(out_channels, out_channels, 3, padding=1),\n",
        "        nn.ReLU(inplace=True)\n",
        "    )   \n",
        "\n",
        "\n",
        "class UNet(nn.Module):\n",
        "\n",
        "    def __init__(self, n_class):\n",
        "        super().__init__()\n",
        "                \n",
        "        self.dconv_down1 = double_conv(3, 64)\n",
        "        self.dconv_down2 = double_conv(64, 128)\n",
        "        self.dconv_down3 = double_conv(128, 256)\n",
        "        self.dconv_down4 = double_conv(256, 512)        \n",
        "\n",
        "        self.maxpool = nn.MaxPool2d(2)\n",
        "        self.upsample = nn.Upsample(scale_factor=2, mode='bilinear', align_corners=True)        \n",
        "        \n",
        "        self.dconv_up3 = double_conv(256 + 512, 256)\n",
        "        self.dconv_up2 = double_conv(128 + 256, 128)\n",
        "        self.dconv_up1 = double_conv(128 + 64, 64)\n",
        "        \n",
        "        self.conv_last = nn.Conv2d(64, n_class, 1)\n",
        "        \n",
        "        \n",
        "    def forward(self, x):\n",
        "      #to be completed\n",
        "        conv1 = self.dconv_down1(x)\n",
        "\n",
        "        x = self.maxpool(conv1)\n",
        "\n",
        "        conv2 = self.dconv_down2(x)\n",
        "        x = self.maxpool(conv2)\n",
        "        \n",
        "        conv3 = self.dconv_down3(x)\n",
        "        x = self.maxpool(conv3)   \n",
        "        \n",
        "        x = self.dconv_down4(x)\n",
        "        \n",
        "        x = self.upsample(x)        \n",
        "        x = torch.cat([x, conv3], dim=1)\n",
        "        \n",
        "        x = self.dconv_up3(x)\n",
        "        x = self.upsample(x)        \n",
        "        x = torch.cat([x, conv2], dim=1)       \n",
        "\n",
        "        x = self.dconv_up2(x)\n",
        "        x = self.upsample(x)        \n",
        "        x = torch.cat([x, conv1], dim=1)   \n",
        "        \n",
        "        x = self.dconv_up1(x)\n",
        "        \n",
        "        out = self.conv_last(x)\n",
        "        \n",
        "        return out\n",
        "\n",
        "      \n",
        "model = UNet(6).cuda() #6 classes"
      ],
      "execution_count": null,
      "outputs": []
    },
    {
      "cell_type": "code",
      "metadata": {
        "colab": {
          "base_uri": "https://localhost:8080/"
        },
        "id": "M2-oLe5rSzz5",
        "outputId": "75d59eca-9dff-48fe-ec74-1237f523ab43"
      },
      "source": [
        "from torchsummary import summary\n",
        "summary(model, input_size=(3, 128, 128))"
      ],
      "execution_count": null,
      "outputs": [
        {
          "output_type": "stream",
          "text": [
            "----------------------------------------------------------------\n",
            "        Layer (type)               Output Shape         Param #\n",
            "================================================================\n",
            "            Conv2d-1         [-1, 64, 128, 128]           1,792\n",
            "              ReLU-2         [-1, 64, 128, 128]               0\n",
            "            Conv2d-3         [-1, 64, 128, 128]          36,928\n",
            "              ReLU-4         [-1, 64, 128, 128]               0\n",
            "         MaxPool2d-5           [-1, 64, 64, 64]               0\n",
            "            Conv2d-6          [-1, 128, 64, 64]          73,856\n",
            "              ReLU-7          [-1, 128, 64, 64]               0\n",
            "            Conv2d-8          [-1, 128, 64, 64]         147,584\n",
            "              ReLU-9          [-1, 128, 64, 64]               0\n",
            "        MaxPool2d-10          [-1, 128, 32, 32]               0\n",
            "           Conv2d-11          [-1, 256, 32, 32]         295,168\n",
            "             ReLU-12          [-1, 256, 32, 32]               0\n",
            "           Conv2d-13          [-1, 256, 32, 32]         590,080\n",
            "             ReLU-14          [-1, 256, 32, 32]               0\n",
            "        MaxPool2d-15          [-1, 256, 16, 16]               0\n",
            "           Conv2d-16          [-1, 512, 16, 16]       1,180,160\n",
            "             ReLU-17          [-1, 512, 16, 16]               0\n",
            "           Conv2d-18          [-1, 512, 16, 16]       2,359,808\n",
            "             ReLU-19          [-1, 512, 16, 16]               0\n",
            "         Upsample-20          [-1, 512, 32, 32]               0\n",
            "           Conv2d-21          [-1, 256, 32, 32]       1,769,728\n",
            "             ReLU-22          [-1, 256, 32, 32]               0\n",
            "           Conv2d-23          [-1, 256, 32, 32]         590,080\n",
            "             ReLU-24          [-1, 256, 32, 32]               0\n",
            "         Upsample-25          [-1, 256, 64, 64]               0\n",
            "           Conv2d-26          [-1, 128, 64, 64]         442,496\n",
            "             ReLU-27          [-1, 128, 64, 64]               0\n",
            "           Conv2d-28          [-1, 128, 64, 64]         147,584\n",
            "             ReLU-29          [-1, 128, 64, 64]               0\n",
            "         Upsample-30        [-1, 128, 128, 128]               0\n",
            "           Conv2d-31         [-1, 64, 128, 128]         110,656\n",
            "             ReLU-32         [-1, 64, 128, 128]               0\n",
            "           Conv2d-33         [-1, 64, 128, 128]          36,928\n",
            "             ReLU-34         [-1, 64, 128, 128]               0\n",
            "           Conv2d-35          [-1, 6, 128, 128]             390\n",
            "================================================================\n",
            "Total params: 7,783,238\n",
            "Trainable params: 7,783,238\n",
            "Non-trainable params: 0\n",
            "----------------------------------------------------------------\n",
            "Input size (MB): 0.19\n",
            "Forward/backward pass size (MB): 148.25\n",
            "Params size (MB): 29.69\n",
            "Estimated Total Size (MB): 178.13\n",
            "----------------------------------------------------------------\n"
          ],
          "name": "stdout"
        }
      ]
    },
    {
      "cell_type": "code",
      "metadata": {
        "colab": {
          "base_uri": "https://localhost:8080/"
        },
        "id": "hkAmXOUiVHe5",
        "outputId": "95788ee2-4b6f-4db1-bd96-38d7252a8f0e"
      },
      "source": [
        "import time\n",
        "import torch.optim as optim\n",
        "optimizer = optim.Adam(model.parameters(), lr=1e-4)\n",
        "num_epochs = 15\n",
        "for epoch in range(num_epochs):\n",
        "    print('Epoch {}/{}'.format(epoch, num_epochs - 1))\n",
        "    print('-' * 10)\n",
        "\n",
        "    since = time.time()\n",
        "\n",
        "    # Each epoch has a training and validation phase\n",
        "    for phase in ['train', 'val']:\n",
        "        if phase == 'train':\n",
        "            model.train()  # Set model to training mode\n",
        "        else:\n",
        "            model.eval()   # Set model to evaluate mode\n",
        "\n",
        "        epoch_samples = 0\n",
        "\n",
        "        for inputs, labels in dataloaders[phase]:\n",
        "            inputs = inputs.cuda()\n",
        "            labels = labels.cuda()\n",
        "\n",
        "            # zero the parameter gradients\n",
        "            optimizer.zero_grad()\n",
        "\n",
        "            # forward\n",
        "            # track history if only in train\n",
        "            with torch.set_grad_enabled(phase == 'train'):\n",
        "                outputs = model(inputs)\n",
        "                loss = F.binary_cross_entropy_with_logits(outputs, labels)\n",
        "\n",
        "                # backward + optimize only if in training phase\n",
        "                if phase == 'train':\n",
        "                    loss.backward()\n",
        "                    optimizer.step()\n",
        "\n",
        "            # statistics\n",
        "            epoch_samples += inputs.size(0)\n",
        "\n",
        "        print(f\"{(loss.detach().cpu().numpy(), epoch_samples, phase)}\")\n",
        "\n",
        "    time_elapsed = time.time() - since\n",
        "    print('{:.0f}m {:.0f}s'.format(time_elapsed // 60, time_elapsed % 60))"
      ],
      "execution_count": null,
      "outputs": [
        {
          "output_type": "stream",
          "text": [
            "Epoch 0/14\n",
            "----------\n",
            "(array(0.02158706, dtype=float32), 2000, 'train')\n",
            "(array(0.02029676, dtype=float32), 200, 'val')\n",
            "0m 16s\n",
            "Epoch 1/14\n",
            "----------\n",
            "(array(0.01293821, dtype=float32), 2000, 'train')\n",
            "(array(0.01228477, dtype=float32), 200, 'val')\n",
            "0m 16s\n",
            "Epoch 2/14\n",
            "----------\n",
            "(array(0.01057811, dtype=float32), 2000, 'train')\n",
            "(array(0.00977099, dtype=float32), 200, 'val')\n",
            "0m 16s\n",
            "Epoch 3/14\n",
            "----------\n",
            "(array(0.00746539, dtype=float32), 2000, 'train')\n",
            "(array(0.00828199, dtype=float32), 200, 'val')\n",
            "0m 16s\n",
            "Epoch 4/14\n",
            "----------\n",
            "(array(0.00620596, dtype=float32), 2000, 'train')\n",
            "(array(0.0059675, dtype=float32), 200, 'val')\n",
            "0m 16s\n",
            "Epoch 5/14\n",
            "----------\n",
            "(array(0.00291669, dtype=float32), 2000, 'train')\n",
            "(array(0.00242489, dtype=float32), 200, 'val')\n",
            "0m 16s\n",
            "Epoch 6/14\n",
            "----------\n",
            "(array(0.00265285, dtype=float32), 2000, 'train')\n",
            "(array(0.00256682, dtype=float32), 200, 'val')\n",
            "0m 16s\n",
            "Epoch 7/14\n",
            "----------\n",
            "(array(0.00180187, dtype=float32), 2000, 'train')\n",
            "(array(0.00173336, dtype=float32), 200, 'val')\n",
            "0m 16s\n",
            "Epoch 8/14\n",
            "----------\n",
            "(array(0.00148214, dtype=float32), 2000, 'train')\n",
            "(array(0.00172062, dtype=float32), 200, 'val')\n",
            "0m 16s\n",
            "Epoch 9/14\n",
            "----------\n",
            "(array(0.00167448, dtype=float32), 2000, 'train')\n",
            "(array(0.00103812, dtype=float32), 200, 'val')\n",
            "0m 16s\n",
            "Epoch 10/14\n",
            "----------\n",
            "(array(0.00157024, dtype=float32), 2000, 'train')\n",
            "(array(0.00102617, dtype=float32), 200, 'val')\n",
            "0m 16s\n",
            "Epoch 11/14\n",
            "----------\n",
            "(array(0.00152681, dtype=float32), 2000, 'train')\n",
            "(array(0.0014387, dtype=float32), 200, 'val')\n",
            "0m 16s\n",
            "Epoch 12/14\n",
            "----------\n",
            "(array(0.00108543, dtype=float32), 2000, 'train')\n",
            "(array(0.00087823, dtype=float32), 200, 'val')\n",
            "0m 16s\n",
            "Epoch 13/14\n",
            "----------\n",
            "(array(0.00091761, dtype=float32), 2000, 'train')\n",
            "(array(0.00089331, dtype=float32), 200, 'val')\n",
            "0m 16s\n",
            "Epoch 14/14\n",
            "----------\n",
            "(array(0.00112835, dtype=float32), 2000, 'train')\n",
            "(array(0.00124938, dtype=float32), 200, 'val')\n",
            "0m 16s\n"
          ],
          "name": "stdout"
        }
      ]
    },
    {
      "cell_type": "code",
      "metadata": {
        "colab": {
          "base_uri": "https://localhost:8080/"
        },
        "id": "GkksX5pHWFIU",
        "outputId": "77072259-29b7-4521-d36a-2f968863efa6"
      },
      "source": [
        "import math\n",
        "\n",
        "model.eval()   # Set model to the evaluation mode\n",
        "\n",
        "# Create a new simulation dataset for testing\n",
        "test_dataset = SimDataset(3, transform = trans)\n",
        "test_loader = DataLoader(test_dataset, batch_size=3, shuffle=False, num_workers=0)\n",
        "\n",
        "# Get the first batch\n",
        "inputs, labels = next(iter(test_loader))\n",
        "inputs = inputs.cuda()\n",
        "labels = labels.cuda()\n",
        "print('inputs.shape', inputs.shape)\n",
        "print('labels.shape', labels.shape)\n",
        "\n",
        "# Predict\n",
        "pred = model(inputs)\n",
        "# The loss functions include the sigmoid function.\n",
        "pred = torch.sigmoid(pred)\n",
        "pred = pred.data.cpu().numpy()\n",
        "print('pred.shape', pred.shape)\n",
        "\n",
        "# Change channel-order and make 3 channels for matplot\n",
        "input_images_rgb = [reverse_transform(x) for x in inputs.cpu()]\n",
        "\n",
        "# Map each channel (i.e. class) to each color\n",
        "target_masks_rgb = [helper.masks_to_colorimg(x) for x in labels.cpu().numpy()]\n",
        "pred_rgb = [helper.masks_to_colorimg(x) for x in pred]"
      ],
      "execution_count": null,
      "outputs": [
        {
          "output_type": "stream",
          "text": [
            "inputs.shape torch.Size([3, 3, 128, 128])\n",
            "labels.shape torch.Size([3, 6, 128, 128])\n",
            "pred.shape (3, 6, 128, 128)\n"
          ],
          "name": "stdout"
        }
      ]
    },
    {
      "cell_type": "code",
      "metadata": {
        "colab": {
          "base_uri": "https://localhost:8080/",
          "height": 703
        },
        "id": "uLNp9H6PWLw8",
        "outputId": "f585e039-3cf7-403b-cc0d-d0605e90dd3e"
      },
      "source": [
        "helper.plot_side_by_side([input_images_rgb, target_masks_rgb, pred_rgb])"
      ],
      "execution_count": null,
      "outputs": [
        {
          "output_type": "display_data",
          "data": {
            "image/png": "[encoded data removed]",
            "text/plain": [
              "<Figure size 864x864 with 9 Axes>"
            ]
          },
          "metadata": {
            "tags": [],
            "needs_background": "light"
          }
        }
      ]
    }
  ]
}