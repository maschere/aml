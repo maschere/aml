{
  "nbformat": 4,
  "nbformat_minor": 0,
  "metadata": {
    "colab": {
      "name": "ratemycrib cheatsheet.ipynb",
      "provenance": [],
      "collapsed_sections": [],
      "authorship_tag": "ABX9TyN8JZtoQjrZSf/oeztmk8Ho",
      "include_colab_link": true
    },
    "kernelspec": {
      "name": "python3",
      "display_name": "Python 3"
    },
    "language_info": {
      "name": "python"
    }
  },
  "cells": [
    {
      "cell_type": "markdown",
      "metadata": {
        "id": "view-in-github",
        "colab_type": "text"
      },
      "source": [
        "<a href=\"https://colab.research.google.com/github/maschere/aml/blob/main/ratemycrib_pipeline.ipynb\" target=\"_parent\"><img src=\"https://colab.research.google.com/assets/colab-badge.svg\" alt=\"Open In Colab\"/></a>"
      ]
    },
    {
      "cell_type": "code",
      "metadata": {
        "id": "KcKZ6FdU7Sk-"
      },
      "source": [
        "# download house price csv\n",
        "!wget \"https://github.com/maschere/public-jupyter/blob/master/data/ames%20housing/ames.csv?raw=true\" -O ames.csv"
      ],
      "execution_count": null,
      "outputs": []
    },
    {
      "cell_type": "code",
      "metadata": {
        "id": "D-WbYUkW7izm"
      },
      "source": [
        "# read data\n",
        "import pandas as pd\n",
        "import numpy as np\n",
        "dat = pd.read_csv(\"ames.csv\").iloc[0:2000]\n",
        "#set aside test\n",
        "dat_test = pd.read_csv(\"ames.csv\").iloc[2001:]\n",
        "\n",
        "#get target\n",
        "salePrice = dat.Sale_Price.values\n",
        "dat.drop(columns=['Sale_Price'], inplace=True)\n",
        "\n",
        "dat.describe()"
      ],
      "execution_count": null,
      "outputs": []
    },
    {
      "cell_type": "code",
      "metadata": {
        "id": "MotOfa16InZY"
      },
      "source": [
        "!pip install mlxtend -U"
      ],
      "execution_count": null,
      "outputs": []
    },
    {
      "cell_type": "code",
      "metadata": {
        "id": "ec9zHfeE8WTm"
      },
      "source": [
        "RANDOM_SEED = 124\n",
        "from mlxtend.regressor import StackingCVRegressor\n",
        "from sklearn.linear_model import Lasso\n",
        "from sklearn.linear_model import Ridge\n",
        "from sklearn.svm import LinearSVR\n",
        "from sklearn.ensemble import RandomForestRegressor\n",
        "from sklearn.model_selection import GridSearchCV\n",
        "from sklearn.pipeline import Pipeline\n",
        "from sklearn.impute import SimpleImputer\n",
        "from sklearn.preprocessing import OneHotEncoder, StandardScaler\n",
        "from sklearn.compose import ColumnTransformer\n",
        "from sklearn.metrics import mean_squared_error\n",
        "\n",
        "# select models\n",
        "ridge = Ridge()\n",
        "lasso = Lasso()\n",
        "rf = RandomForestRegressor(random_state=RANDOM_SEED)\n",
        "svm = LinearSVR(dual=True)\n",
        "\n",
        "#create pipelines\n",
        "##get col types\n",
        "categorical_cols = [col for col in dat.columns if dat[col].dtype == 'object']\n",
        "numerical_cols = [col for col in dat.columns if (dat[col].dtype == 'int64' or dat[col].dtype == 'float64')]\n",
        "##define preprocessing\n",
        "numerical_transformer = Pipeline(steps=\n",
        "                                 [('imputer',SimpleImputer()),\n",
        "                                  ('scaler',StandardScaler())])\n",
        "categorical_transformer = Pipeline(steps=\n",
        "                                   [('imputer', SimpleImputer(strategy='most_frequent')),\n",
        "                                    ('onehot', OneHotEncoder(handle_unknown='ignore'))])\n",
        "preprocessor = ColumnTransformer(transformers=\n",
        "                                 [('num', numerical_transformer, numerical_cols), \n",
        "                                  ('cat', categorical_transformer, categorical_cols)])\n",
        "\n",
        "#create stack\n",
        "stack = StackingCVRegressor(regressors=(ridge, rf),\n",
        "                            meta_regressor=lasso)\n",
        "#put model(stack) and preprocess into pipeline\n",
        "pipeline = Pipeline(steps=\n",
        "                   [('pre', preprocessor),\n",
        "                   ('model', stack)])\n",
        "\n",
        "# do cross-val grid search\n",
        "grid = GridSearchCV(\n",
        "    estimator=pipeline, \n",
        "    param_grid={\n",
        "        #'model__linearsvr__C': [0.5, 1.0, 2.0],\n",
        "        'model__ridge__alpha': [0.5],\n",
        "        'model__randomforestregressor__n_estimators': [10,100,200],\n",
        "        'model__meta_regressor__alpha': [2.0],\n",
        "    }, \n",
        "    cv=3,\n",
        "    n_jobs=1,\n",
        "    verbose=4,\n",
        "    scoring='neg_root_mean_squared_error',\n",
        "    refit=True\n",
        ")\n",
        "#list all possible params to tune in the pipeline\n",
        "pipeline.get_params().keys()"
      ],
      "execution_count": null,
      "outputs": []
    },
    {
      "cell_type": "code",
      "metadata": {
        "id": "HzRrce1xpW4C"
      },
      "source": [
        "# run the fit\n",
        "grid.fit(dat, salePrice)\n",
        "print(\"Best: %f using %s\" % (grid.best_score_, grid.best_params_)"
      ],
      "execution_count": null,
      "outputs": []
    }
  ]
}